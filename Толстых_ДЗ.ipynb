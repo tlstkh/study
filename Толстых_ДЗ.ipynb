{
  "nbformat": 4,
  "nbformat_minor": 0,
  "metadata": {
    "colab": {
      "provenance": []
    },
    "kernelspec": {
      "name": "python3",
      "display_name": "Python 3"
    },
    "language_info": {
      "name": "python"
    }
  },
  "cells": [
    {
      "cell_type": "code",
      "source": [
        "import numpy as np\n",
        "\n",
        "# Определяем матрицу А\n",
        "A = np.matrix([[6, -8, 3]])\n",
        "\n",
        "# Определяем матрицу В\n",
        "B = np.matrix([[1], [1], [4]])\n",
        "\n",
        "# Выполняем умножение матриц А и В\n",
        "result = np.dot(A, B)\n",
        "\n",
        "# Выводим результат\n",
        "print(result)\n"
      ],
      "metadata": {
        "colab": {
          "base_uri": "https://localhost:8080/"
        },
        "id": "pg6okIhGAaSh",
        "outputId": "42f08f3a-804b-4795-8dc1-abc08362c31f"
      },
      "execution_count": 6,
      "outputs": [
        {
          "output_type": "stream",
          "name": "stdout",
          "text": [
            "[[10]]\n"
          ]
        }
      ]
    },
    {
      "cell_type": "code",
      "source": [
        "C = np.array([[-3, -7],\n",
        "              [-10, 6],\n",
        "              [0, -6],\n",
        "              [-1, -3]])\n",
        "\n",
        "D = np.array([[-8, 9],\n",
        "              [4, -2]])\n",
        "\n",
        "result = np.dot(C, D)\n",
        "\n",
        "\n",
        "print(result)"
      ],
      "metadata": {
        "colab": {
          "base_uri": "https://localhost:8080/"
        },
        "id": "zTxVqXSCDwu5",
        "outputId": "1cde8972-5362-4c58-df8b-c5e2a2404d34"
      },
      "execution_count": 10,
      "outputs": [
        {
          "output_type": "stream",
          "name": "stdout",
          "text": [
            "[[  -4  -13]\n",
            " [ 104 -102]\n",
            " [ -24   12]\n",
            " [  -4   -3]]\n"
          ]
        }
      ]
    }
  ]
}