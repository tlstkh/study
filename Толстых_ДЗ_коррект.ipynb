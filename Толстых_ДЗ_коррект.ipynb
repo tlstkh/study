{
  "nbformat": 4,
  "nbformat_minor": 0,
  "metadata": {
    "colab": {
      "provenance": []
    },
    "kernelspec": {
      "name": "python3",
      "display_name": "Python 3"
    },
    "language_info": {
      "name": "python"
    }
  },
  "cells": [
    {
      "cell_type": "code",
      "source": [
        "# Определяем матрицу А\n",
        "A = [[6, -8, 3]]\n",
        "\n",
        "# Определяем матрицу В\n",
        "B = [[1], [1], [4]]\n",
        "\n",
        "# Проверяем совместимость размерностей матриц\n",
        "if len(A[0]) != len(B):\n",
        "    print(\"Ошибка: Несовместимые размерности матриц\")\n",
        "else:\n",
        "    # Создаем пустую матрицу-результат\n",
        "    result = [[0] * len(B[0]) for _ in range(len(A))]\n",
        "\n",
        "    # Выполняем умножение матриц А и В\n",
        "    for i in range(len(A)):\n",
        "        for j in range(len(B[0])):\n",
        "            for k in range(len(B)):\n",
        "                result[i][j] += A[i][k] * B[k][j]\n",
        "\n",
        "    # Выводим результат\n",
        "    for row in result:\n",
        "        print(row)\n"
      ],
      "metadata": {
        "colab": {
          "base_uri": "https://localhost:8080/"
        },
        "id": "bDNgfJbbVtZ2",
        "outputId": "400e4406-09d2-4629-f39c-919161178554"
      },
      "execution_count": 1,
      "outputs": [
        {
          "output_type": "stream",
          "name": "stdout",
          "text": [
            "[10]\n"
          ]
        }
      ]
    },
    {
      "cell_type": "code",
      "source": [
        "# Определяем матрицу C\n",
        "C = [[-3, -7],\n",
        "     [-10, 6],\n",
        "     [0, -6],\n",
        "     [-1, -3]]\n",
        "\n",
        "# Определяем матрицу D\n",
        "D = [[-8, 9],\n",
        "     [4, -2]]\n",
        "\n",
        "# Проверяем совместимость размерностей матриц\n",
        "if len(C[0]) != len(D):\n",
        "    print(\"Ошибка: Несовместимые размерности матриц\")\n",
        "else:\n",
        "    # Создаем пустую матрицу-результат\n",
        "    result = [[0] * len(D[0]) for _ in range(len(C))]\n",
        "\n",
        "    # Выполняем умножение матриц C и D\n",
        "    for i in range(len(C)):\n",
        "        for j in range(len(D[0])):\n",
        "            for k in range(len(D)):\n",
        "                result[i][j] += C[i][k] * D[k][j]\n",
        "\n",
        "    # Выводим результат\n",
        "    for row in result:\n",
        "        print(row)\n"
      ],
      "metadata": {
        "colab": {
          "base_uri": "https://localhost:8080/"
        },
        "id": "tGoCXZroWuJN",
        "outputId": "01c9e684-975f-4b2b-b0ac-e394a0a7bd44"
      },
      "execution_count": 2,
      "outputs": [
        {
          "output_type": "stream",
          "name": "stdout",
          "text": [
            "[-4, -13]\n",
            "[104, -102]\n",
            "[-24, 12]\n",
            "[-4, -3]\n"
          ]
        }
      ]
    },
    {
      "cell_type": "code",
      "source": [
        "import numpy as np\n",
        "\n",
        "# Определяем матрицу А\n",
        "A = np.matrix([[6, -8, 3]])\n",
        "\n",
        "# Определяем матрицу В\n",
        "B = np.matrix([[1], [1], [4]])\n",
        "\n",
        "# Выполняем умножение матриц А и В\n",
        "result = A * B\n",
        "\n",
        "# Выводим результат\n",
        "print(result)\n"
      ],
      "metadata": {
        "colab": {
          "base_uri": "https://localhost:8080/"
        },
        "id": "pg6okIhGAaSh",
        "outputId": "bf6997d1-0f70-4b55-f4d9-3f5c160e8975"
      },
      "execution_count": null,
      "outputs": [
        {
          "output_type": "stream",
          "name": "stdout",
          "text": [
            "[[10]]\n"
          ]
        }
      ]
    },
    {
      "cell_type": "code",
      "source": [
        "C = np.array([[-3, -7],\n",
        "              [-10, 6],\n",
        "              [0, -6],\n",
        "              [-1, -3]])\n",
        "\n",
        "D = np.array([[-8, 9],\n",
        "              [4, -2]])\n",
        "\n",
        "result = np.dot(C, D)\n",
        "\n",
        "\n",
        "print(result)"
      ],
      "metadata": {
        "colab": {
          "base_uri": "https://localhost:8080/"
        },
        "id": "zTxVqXSCDwu5",
        "outputId": "1cde8972-5362-4c58-df8b-c5e2a2404d34"
      },
      "execution_count": null,
      "outputs": [
        {
          "output_type": "stream",
          "name": "stdout",
          "text": [
            "[[  -4  -13]\n",
            " [ 104 -102]\n",
            " [ -24   12]\n",
            " [  -4   -3]]\n"
          ]
        }
      ]
    },
    {
      "cell_type": "code",
      "source": [],
      "metadata": {
        "id": "GOY2bmEfWsRc"
      },
      "execution_count": null,
      "outputs": []
    },
    {
      "cell_type": "markdown",
      "source": [],
      "metadata": {
        "id": "eBj82-p-Vslp"
      }
    }
  ]
}