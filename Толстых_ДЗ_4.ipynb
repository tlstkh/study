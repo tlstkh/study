{
  "nbformat": 4,
  "nbformat_minor": 0,
  "metadata": {
    "colab": {
      "provenance": []
    },
    "kernelspec": {
      "name": "python3",
      "display_name": "Python 3"
    },
    "language_info": {
      "name": "python"
    }
  },
  "cells": [
    {
      "cell_type": "code",
      "source": [
        "import numpy as np\n",
        "\n",
        "# Определение матриц A, B и C\n",
        "A = np.array([[1, 2, 1], [-2, 1, 1]])\n",
        "B = np.array([[3, 1], [-1, 0], [2, 4]])\n",
        "C = np.array([[-2, 2], [1, -1], [1, 2]])\n",
        "\n",
        "# Выполнение операций над матрицами\n",
        "result1 = A + 2 * B.T  # Транспонирование матрицы B для согласования размерностей\n",
        "result2 = B + 2 * C\n",
        "\n",
        "# Вывод результатов\n",
        "print(\"Результат операции A + 2B:\")\n",
        "print(result1)\n",
        "\n",
        "print(\"Результат операции B + 2C:\")\n",
        "print(result2)"
      ],
      "metadata": {
        "colab": {
          "base_uri": "https://localhost:8080/"
        },
        "id": "85DJaWs3ifJx",
        "outputId": "6319a6da-cc14-42af-fad3-9bb63d356368"
      },
      "execution_count": 3,
      "outputs": [
        {
          "output_type": "stream",
          "name": "stdout",
          "text": [
            "Результат операции A + 2B:\n",
            "[[7 0 5]\n",
            " [0 1 9]]\n",
            "Результат операции B + 2C:\n",
            "[[-1  5]\n",
            " [ 1 -2]\n",
            " [ 4  8]]\n"
          ]
        }
      ]
    },
    {
      "cell_type": "code",
      "source": [
        "import numpy as np\n",
        "\n",
        "# Создание матрицы 8x8, заполненной нулями\n",
        "matrix = np.zeros((8, 8), dtype=int)\n",
        "\n",
        "# Заполнение матрицы значениями в альтернативном шахматном порядке через срезы массива\n",
        "matrix[1::2, ::2] = 1  # Заполнение нечетных строк и четных столбцов значениями 1\n",
        "matrix[::2, 1::2] = 1  # Заполнение четных строк и нечетных столбцов значениями 1\n",
        "\n",
        "# Вывод матрицы\n",
        "print(matrix)\n",
        "\n"
      ],
      "metadata": {
        "colab": {
          "base_uri": "https://localhost:8080/"
        },
        "id": "Bs8SxJOTkAH5",
        "outputId": "b82259e4-c63b-404c-cf80-f46663bc9b34"
      },
      "execution_count": 5,
      "outputs": [
        {
          "output_type": "stream",
          "name": "stdout",
          "text": [
            "[[0 1 0 1 0 1 0 1]\n",
            " [1 0 1 0 1 0 1 0]\n",
            " [0 1 0 1 0 1 0 1]\n",
            " [1 0 1 0 1 0 1 0]\n",
            " [0 1 0 1 0 1 0 1]\n",
            " [1 0 1 0 1 0 1 0]\n",
            " [0 1 0 1 0 1 0 1]\n",
            " [1 0 1 0 1 0 1 0]]\n"
          ]
        }
      ]
    },
    {
      "cell_type": "code",
      "source": [
        "# Создание первого вектора\n",
        "vector1 = np.arange(0, 1.5, 0.1)\n",
        "\n",
        "# Создание второго вектора\n",
        "vector2 = np.arange(1, 7)\n",
        "\n",
        "# Преобразование первого вектора в матрицу 5x3\n",
        "matrix1 = np.reshape(vector1, (5, 3))\n",
        "\n",
        "# Преобразование второго вектора в матрицу 3x2\n",
        "matrix2 = np.reshape(vector2, (3, 2))\n",
        "\n",
        "# Перемножение матриц\n",
        "result = np.dot(matrix1, matrix2)\n",
        "\n",
        "# Вывод матриц и результата перемножения\n",
        "print(\"Первая матрица (5x3):\")\n",
        "print(matrix1)\n",
        "print()\n",
        "\n",
        "print(\"Вторая матрица (3x2):\")\n",
        "print(matrix2)\n",
        "print()\n",
        "\n",
        "print(\"Результат перемножения матриц:\")\n",
        "print(result)"
      ],
      "metadata": {
        "colab": {
          "base_uri": "https://localhost:8080/"
        },
        "id": "kX9gG4DBtJ9R",
        "outputId": "1ef56038-2171-4e37-8117-1426a1b51eae"
      },
      "execution_count": 6,
      "outputs": [
        {
          "output_type": "stream",
          "name": "stdout",
          "text": [
            "Первая матрица (5x3):\n",
            "[[0.  0.1 0.2]\n",
            " [0.3 0.4 0.5]\n",
            " [0.6 0.7 0.8]\n",
            " [0.9 1.  1.1]\n",
            " [1.2 1.3 1.4]]\n",
            "\n",
            "Вторая матрица (3x2):\n",
            "[[1 2]\n",
            " [3 4]\n",
            " [5 6]]\n",
            "\n",
            "Результат перемножения матриц:\n",
            "[[ 1.3  1.6]\n",
            " [ 4.   5.2]\n",
            " [ 6.7  8.8]\n",
            " [ 9.4 12.4]\n",
            " [12.1 16. ]]\n"
          ]
        }
      ]
    },
    {
      "cell_type": "code",
      "source": [
        "# Создание вектора из значений 1, 3, 5, 7 и так далее\n",
        "vector = np.arange(1, 73, 2, dtype=np.int32)\n",
        "\n",
        "# Выделение элементов вектора, кратных 3\n",
        "result = vector[vector % 3 == 0]\n",
        "\n",
        "# Вывод результата\n",
        "print(result)"
      ],
      "metadata": {
        "colab": {
          "base_uri": "https://localhost:8080/"
        },
        "id": "lTKRkg4Dt6ej",
        "outputId": "e86518fb-7de5-4e19-9181-f9e776ceb278"
      },
      "execution_count": 7,
      "outputs": [
        {
          "output_type": "stream",
          "name": "stdout",
          "text": [
            "[ 3  9 15 21 27 33 39 45 51 57 63 69]\n"
          ]
        }
      ]
    }
  ]
}